{
 "cells": [
  {
   "cell_type": "code",
   "execution_count": null,
   "id": "28e7a634",
   "metadata": {},
   "outputs": [],
   "source": [
    "continuation of list datatype:"
   ]
  },
  {
   "cell_type": "code",
   "execution_count": 14,
   "id": "0d15b4bb",
   "metadata": {},
   "outputs": [
    {
     "name": "stdout",
     "output_type": "stream",
     "text": [
      "['Samsung', 'Vivo', 'Apple', 'MI', 'Realmi', 'Oppo']\n"
     ]
    }
   ],
   "source": [
    "Mobile=['Samsung','Vivo','Apple','MI','Realmi','Oppo']\n",
    "print(Mobile)"
   ]
  },
  {
   "cell_type": "code",
   "execution_count": 3,
   "id": "f3493153",
   "metadata": {},
   "outputs": [
    {
     "data": {
      "text/plain": [
       "list"
      ]
     },
     "execution_count": 3,
     "metadata": {},
     "output_type": "execute_result"
    }
   ],
   "source": [
    "type(Mobile)"
   ]
  },
  {
   "cell_type": "code",
   "execution_count": 4,
   "id": "c7ebaa04",
   "metadata": {},
   "outputs": [
    {
     "name": "stdout",
     "output_type": "stream",
     "text": [
      "['Afganistan', 'Bhutan', 'India', 'Nepal', 'Bangladesh', 'Pakistan']\n"
     ]
    }
   ],
   "source": [
    "country=['Afganistan','Bhutan','India','Nepal','Bangladesh','Pakistan']\n",
    "print(country)"
   ]
  },
  {
   "cell_type": "code",
   "execution_count": 5,
   "id": "021638dc",
   "metadata": {},
   "outputs": [
    {
     "data": {
      "text/plain": [
       "list"
      ]
     },
     "execution_count": 5,
     "metadata": {},
     "output_type": "execute_result"
    }
   ],
   "source": [
    "type(country)"
   ]
  },
  {
   "cell_type": "code",
   "execution_count": null,
   "id": "d36ce43d",
   "metadata": {},
   "outputs": [],
   "source": [
    "# I want to arrange alphabatically order"
   ]
  },
  {
   "cell_type": "code",
   "execution_count": null,
   "id": "1ca3d580",
   "metadata": {},
   "outputs": [],
   "source": [
    "#two approaches:\n",
    "    1: sorted=====> we will able to yet the list old order or original order with this approaches\n",
    "    2: sort+++++++> This changes are permanently but we will not able to change original order or old order with this approaches\n",
    "                    approaches ."
   ]
  },
  {
   "cell_type": "code",
   "execution_count": null,
   "id": "1f104d5e",
   "metadata": {},
   "outputs": [],
   "source": [
    "Exe of sort and sorted:"
   ]
  },
  {
   "cell_type": "code",
   "execution_count": null,
   "id": "73d240cb",
   "metadata": {},
   "outputs": [],
   "source": [
    "#Exe of sorted"
   ]
  },
  {
   "cell_type": "code",
   "execution_count": 15,
   "id": "9cb717f3",
   "metadata": {},
   "outputs": [
    {
     "data": {
      "text/plain": [
       "['Apple', 'MI', 'Oppo', 'Realmi', 'Samsung', 'Vivo']"
      ]
     },
     "execution_count": 15,
     "metadata": {},
     "output_type": "execute_result"
    }
   ],
   "source": [
    "sorted(Mobile)"
   ]
  },
  {
   "cell_type": "code",
   "execution_count": 17,
   "id": "3a147e81",
   "metadata": {},
   "outputs": [
    {
     "name": "stdout",
     "output_type": "stream",
     "text": [
      "['Samsung', 'Vivo', 'Apple', 'MI', 'Realmi', 'Oppo']\n"
     ]
    }
   ],
   "source": [
    "print(Mobile)#order not chande permanentli"
   ]
  },
  {
   "cell_type": "code",
   "execution_count": 13,
   "id": "02faa682",
   "metadata": {},
   "outputs": [
    {
     "data": {
      "text/plain": [
       "['Afganistan', 'Bangladesh', 'Bhutan', 'India', 'Nepal', 'Pakistan']"
      ]
     },
     "execution_count": 13,
     "metadata": {},
     "output_type": "execute_result"
    }
   ],
   "source": [
    "sorted(country)"
   ]
  },
  {
   "cell_type": "code",
   "execution_count": 18,
   "id": "6d474950",
   "metadata": {},
   "outputs": [
    {
     "name": "stdout",
     "output_type": "stream",
     "text": [
      "['Afganistan', 'Bhutan', 'India', 'Nepal', 'Bangladesh', 'Pakistan']\n"
     ]
    }
   ],
   "source": [
    "print(country)#order not cange"
   ]
  },
  {
   "cell_type": "code",
   "execution_count": null,
   "id": "aaf07305",
   "metadata": {},
   "outputs": [],
   "source": [
    "# Exe of sort"
   ]
  },
  {
   "cell_type": "code",
   "execution_count": 19,
   "id": "55b10694",
   "metadata": {},
   "outputs": [
    {
     "name": "stdout",
     "output_type": "stream",
     "text": [
      "['Apple', 'MI', 'Oppo', 'Realmi', 'Samsung', 'Vivo']\n"
     ]
    }
   ],
   "source": [
    "Mobile.sort()\n",
    "print(Mobile)"
   ]
  },
  {
   "cell_type": "code",
   "execution_count": 20,
   "id": "a00c394b",
   "metadata": {},
   "outputs": [
    {
     "name": "stdout",
     "output_type": "stream",
     "text": [
      "['Apple', 'MI', 'Oppo', 'Realmi', 'Samsung', 'Vivo']\n"
     ]
    }
   ],
   "source": [
    "print(Mobile) # order changed permanently"
   ]
  },
  {
   "cell_type": "code",
   "execution_count": 21,
   "id": "88b042b2",
   "metadata": {},
   "outputs": [
    {
     "name": "stdout",
     "output_type": "stream",
     "text": [
      "['Afganistan', 'Bangladesh', 'Bhutan', 'India', 'Nepal', 'Pakistan']\n"
     ]
    }
   ],
   "source": [
    "country.sort()\n",
    "print(country)"
   ]
  },
  {
   "cell_type": "code",
   "execution_count": 22,
   "id": "425a1589",
   "metadata": {},
   "outputs": [
    {
     "name": "stdout",
     "output_type": "stream",
     "text": [
      "['Afganistan', 'Bangladesh', 'Bhutan', 'India', 'Nepal', 'Pakistan']\n"
     ]
    }
   ],
   "source": [
    "print(country) # order changed permanenetly"
   ]
  },
  {
   "cell_type": "code",
   "execution_count": null,
   "id": "de51d2e3",
   "metadata": {},
   "outputs": [],
   "source": [
    "# I want to reverse this list"
   ]
  },
  {
   "cell_type": "code",
   "execution_count": 25,
   "id": "e3d1fa75",
   "metadata": {},
   "outputs": [
    {
     "name": "stdout",
     "output_type": "stream",
     "text": [
      "['Vivo', 'Samsung', 'Realmi', 'Oppo', 'MI', 'Apple']\n"
     ]
    }
   ],
   "source": [
    "Mobile.reverse()    # reverse sucessfully\n",
    "print(Mobile)"
   ]
  },
  {
   "cell_type": "code",
   "execution_count": 26,
   "id": "c6360883",
   "metadata": {},
   "outputs": [
    {
     "name": "stdout",
     "output_type": "stream",
     "text": [
      "['Pakistan', 'Nepal', 'India', 'Bhutan', 'Bangladesh', 'Afganistan']\n"
     ]
    }
   ],
   "source": [
    "country.reverse()\n",
    "print(country)"
   ]
  },
  {
   "cell_type": "code",
   "execution_count": null,
   "id": "ccb88744",
   "metadata": {},
   "outputs": [],
   "source": [
    "introduction of Slicing the list:"
   ]
  },
  {
   "cell_type": "code",
   "execution_count": null,
   "id": "e2cfaa81",
   "metadata": {},
   "outputs": [],
   "source": [
    "# General syntax of slicing"
   ]
  },
  {
   "cell_type": "code",
   "execution_count": null,
   "id": "cdbf944c",
   "metadata": {},
   "outputs": [],
   "source": [
    "[starvalue:stopvalue:stepcount]"
   ]
  },
  {
   "cell_type": "code",
   "execution_count": null,
   "id": "af7df7ec",
   "metadata": {},
   "outputs": [],
   "source": [
    "stop value is also exclusive ===> to include stopvalue number we have increament this number +1"
   ]
  },
  {
   "cell_type": "code",
   "execution_count": 27,
   "id": "8278617b",
   "metadata": {},
   "outputs": [
    {
     "name": "stdout",
     "output_type": "stream",
     "text": [
      "['Pakistan', 'Nepal']\n"
     ]
    }
   ],
   "source": [
    "country=['Pakistan', 'Nepal', 'India', 'Bhutan', 'Bangladesh', 'Afganistan']\n",
    "print(country[0:2])"
   ]
  },
  {
   "cell_type": "code",
   "execution_count": 28,
   "id": "f389fa5d",
   "metadata": {},
   "outputs": [
    {
     "name": "stdout",
     "output_type": "stream",
     "text": [
      "['India', 'Bhutan']\n"
     ]
    }
   ],
   "source": [
    "print(country[2:4])"
   ]
  },
  {
   "cell_type": "code",
   "execution_count": 29,
   "id": "ffc035cd",
   "metadata": {},
   "outputs": [
    {
     "name": "stdout",
     "output_type": "stream",
     "text": [
      "['Bangladesh', 'Afganistan']\n"
     ]
    }
   ],
   "source": [
    "print(country[4:6])"
   ]
  },
  {
   "cell_type": "code",
   "execution_count": null,
   "id": "912e09ae",
   "metadata": {},
   "outputs": [],
   "source": [
    "Mobile=['Vivo', 'Samsung', 'Realmi', 'Oppo', 'MI', 'Apple']"
   ]
  },
  {
   "cell_type": "code",
   "execution_count": 30,
   "id": "d4f4fa6a",
   "metadata": {},
   "outputs": [
    {
     "name": "stdout",
     "output_type": "stream",
     "text": [
      "['Vivo', 'Samsung']\n"
     ]
    }
   ],
   "source": [
    "print(Mobile[0:2])"
   ]
  },
  {
   "cell_type": "code",
   "execution_count": 31,
   "id": "274f7752",
   "metadata": {},
   "outputs": [
    {
     "name": "stdout",
     "output_type": "stream",
     "text": [
      "['Realmi', 'Oppo']\n"
     ]
    }
   ],
   "source": [
    "print(Mobile[2:4])"
   ]
  },
  {
   "cell_type": "code",
   "execution_count": 32,
   "id": "23469010",
   "metadata": {},
   "outputs": [
    {
     "name": "stdout",
     "output_type": "stream",
     "text": [
      "['MI', 'Apple']\n"
     ]
    }
   ],
   "source": [
    "print(Mobile[4:6])"
   ]
  },
  {
   "cell_type": "code",
   "execution_count": null,
   "id": "764211fb",
   "metadata": {},
   "outputs": [],
   "source": [
    "# I want mobile list a line"
   ]
  },
  {
   "cell_type": "code",
   "execution_count": 33,
   "id": "b4521026",
   "metadata": {},
   "outputs": [
    {
     "name": "stdout",
     "output_type": "stream",
     "text": [
      "Most famous leading mobile company is:\n",
      "\tVivo\n",
      "\tSamsung\n",
      "\tRealmi\n",
      "\tOppo\n",
      "\tMI\n",
      "\tApple\n"
     ]
    }
   ],
   "source": [
    "print(\"Most famous leading mobile company is:\\n\\tVivo\\n\\tSamsung\\n\\tRealmi\\n\\tOppo\\n\\tMI\\n\\tApple\")"
   ]
  },
  {
   "cell_type": "code",
   "execution_count": 34,
   "id": "d736c288",
   "metadata": {},
   "outputs": [
    {
     "name": "stdout",
     "output_type": "stream",
     "text": [
      "list of the country is:\n",
      "\tPakistan\n",
      "\tNepal\n",
      "\tIndia\n",
      "\tBhutan\n",
      "\tChina\n"
     ]
    }
   ],
   "source": [
    "print(\"list of the country is:\\n\\tPakistan\\n\\tNepal\\n\\tIndia\\n\\tBhutan\\n\\tChina\")"
   ]
  },
  {
   "cell_type": "code",
   "execution_count": 49,
   "id": "6680460e",
   "metadata": {},
   "outputs": [
    {
     "name": "stdout",
     "output_type": "stream",
     "text": [
      "Sourav Ganguly\n"
     ]
    }
   ],
   "source": [
    "First_name=\"Sourav\"       \n",
    "Last_nane=\"Ganguly\"\n",
    "run=70\n",
    "Full_name=f\"{First_name} {Last_nane}\"\n",
    "print(Full_name)"
   ]
  },
  {
   "cell_type": "code",
   "execution_count": 48,
   "id": "107239ba",
   "metadata": {},
   "outputs": [
    {
     "name": "stdout",
     "output_type": "stream",
     "text": [
      " the mast famous and former captain and at present BCCI chairman is,SOURAV GANGULY\n"
     ]
    }
   ],
   "source": [
    "massage= f\" the mast famous and former captain and at present BCCI chairman is,{(Full_name).upper()}\"\n",
    "print(massage)"
   ]
  },
  {
   "cell_type": "code",
   "execution_count": null,
   "id": "b150ed4d",
   "metadata": {},
   "outputs": [],
   "source": [
    "# I want to index number"
   ]
  },
  {
   "cell_type": "code",
   "execution_count": 52,
   "id": "50d6e5f4",
   "metadata": {},
   "outputs": [
    {
     "name": "stdout",
     "output_type": "stream",
     "text": [
      "Vivo\n"
     ]
    }
   ],
   "source": [
    "print(Mobile[0])"
   ]
  },
  {
   "cell_type": "code",
   "execution_count": 53,
   "id": "c371abd0",
   "metadata": {},
   "outputs": [
    {
     "name": "stdout",
     "output_type": "stream",
     "text": [
      "MI\n"
     ]
    }
   ],
   "source": [
    "print(Mobile[4])"
   ]
  },
  {
   "cell_type": "code",
   "execution_count": 55,
   "id": "b2a60eb8",
   "metadata": {},
   "outputs": [
    {
     "name": "stdout",
     "output_type": "stream",
     "text": [
      "Afganistan\n"
     ]
    }
   ],
   "source": [
    "print(country[5])"
   ]
  },
  {
   "cell_type": "code",
   "execution_count": null,
   "id": "6e371e57",
   "metadata": {},
   "outputs": [],
   "source": [
    "# I want to added name the above list:"
   ]
  },
  {
   "cell_type": "code",
   "execution_count": 57,
   "id": "80b10f02",
   "metadata": {},
   "outputs": [
    {
     "name": "stdout",
     "output_type": "stream",
     "text": [
      "['Vivo', 'Samsung', 'Realmi', 'Oppo', 'MI', 'Apple', 'Nokia']\n"
     ]
    }
   ],
   "source": [
    "Mobile=['Vivo', 'Samsung', 'Realmi', 'Oppo', 'MI', 'Apple']\n",
    "Mobile.append('Nokia',)\n",
    "print(Mobile)"
   ]
  },
  {
   "cell_type": "code",
   "execution_count": null,
   "id": "fa52d485",
   "metadata": {},
   "outputs": [],
   "source": [
    "# I want to count the elements of this list:"
   ]
  },
  {
   "cell_type": "code",
   "execution_count": 59,
   "id": "51ce7e81",
   "metadata": {},
   "outputs": [
    {
     "data": {
      "text/plain": [
       "7"
      ]
     },
     "execution_count": 59,
     "metadata": {},
     "output_type": "execute_result"
    }
   ],
   "source": [
    "len(Mobile)"
   ]
  },
  {
   "cell_type": "code",
   "execution_count": 60,
   "id": "260def51",
   "metadata": {},
   "outputs": [
    {
     "name": "stdout",
     "output_type": "stream",
     "text": [
      "['Pakistan', 'Nepal', 'India', 'Bhutan', 'America', 'Bangladesh', 'Afganistan']\n"
     ]
    }
   ],
   "source": [
    "country=['Pakistan', 'Nepal', 'India', 'Bhutan', 'Bangladesh', 'Afganistan']\n",
    "country.insert(4,\"America\")\n",
    "print(country)"
   ]
  },
  {
   "cell_type": "code",
   "execution_count": 61,
   "id": "fffafbcc",
   "metadata": {},
   "outputs": [
    {
     "data": {
      "text/plain": [
       "7"
      ]
     },
     "execution_count": 61,
     "metadata": {},
     "output_type": "execute_result"
    }
   ],
   "source": [
    "len(country)"
   ]
  },
  {
   "cell_type": "code",
   "execution_count": null,
   "id": "d3d54fe1",
   "metadata": {},
   "outputs": [],
   "source": []
  },
  {
   "cell_type": "code",
   "execution_count": null,
   "id": "6191aac4",
   "metadata": {},
   "outputs": [],
   "source": []
  },
  {
   "cell_type": "code",
   "execution_count": null,
   "id": "4ff18da1",
   "metadata": {},
   "outputs": [],
   "source": []
  },
  {
   "cell_type": "code",
   "execution_count": null,
   "id": "e0a9ae3e",
   "metadata": {},
   "outputs": [],
   "source": []
  },
  {
   "cell_type": "code",
   "execution_count": null,
   "id": "79c2f767",
   "metadata": {},
   "outputs": [],
   "source": []
  },
  {
   "cell_type": "code",
   "execution_count": null,
   "id": "31cf4460",
   "metadata": {},
   "outputs": [],
   "source": []
  },
  {
   "cell_type": "code",
   "execution_count": null,
   "id": "f66e2c5c",
   "metadata": {},
   "outputs": [],
   "source": []
  },
  {
   "cell_type": "code",
   "execution_count": null,
   "id": "09db2735",
   "metadata": {},
   "outputs": [],
   "source": []
  }
 ],
 "metadata": {
  "kernelspec": {
   "display_name": "Python 3 (ipykernel)",
   "language": "python",
   "name": "python3"
  },
  "language_info": {
   "codemirror_mode": {
    "name": "ipython",
    "version": 3
   },
   "file_extension": ".py",
   "mimetype": "text/x-python",
   "name": "python",
   "nbconvert_exporter": "python",
   "pygments_lexer": "ipython3",
   "version": "3.9.12"
  }
 },
 "nbformat": 4,
 "nbformat_minor": 5
}
