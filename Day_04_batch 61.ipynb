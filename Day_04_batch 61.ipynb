{
 "cells": [
  {
   "cell_type": "code",
   "execution_count": null,
   "id": "173bc842",
   "metadata": {},
   "outputs": [],
   "source": [
    "#Introduction of list data type\n",
    "\n",
    "A list is a collect itens and decared in particular order\n",
    "\n",
    "It is mutabale datatype\n"
   ]
  },
  {
   "cell_type": "code",
   "execution_count": null,
   "id": "8d93c955",
   "metadata": {},
   "outputs": [],
   "source": [
    "#exe of list datatype"
   ]
  },
  {
   "cell_type": "code",
   "execution_count": 1,
   "id": "10ef4c2e",
   "metadata": {},
   "outputs": [
    {
     "name": "stdout",
     "output_type": "stream",
     "text": [
      "['coconut', 'mango', 'ginger', 'guava', 'lichi']\n"
     ]
    }
   ],
   "source": [
    "Fruits=['coconut','mango','ginger','guava','lichi']\n",
    "print(Fruits)\n"
   ]
  },
  {
   "cell_type": "code",
   "execution_count": 6,
   "id": "5ba90786",
   "metadata": {},
   "outputs": [
    {
     "name": "stdout",
     "output_type": "stream",
     "text": [
      "['samsung', 'oppo', 'vivo', 'MI']\n"
     ]
    }
   ],
   "source": [
    "Mobile_companies=['samsung','oppo','vivo','MI']\n",
    "print(Mobile_companies)"
   ]
  },
  {
   "cell_type": "code",
   "execution_count": 7,
   "id": "a2eb90c7",
   "metadata": {},
   "outputs": [
    {
     "data": {
      "text/plain": [
       "list"
      ]
     },
     "execution_count": 7,
     "metadata": {},
     "output_type": "execute_result"
    }
   ],
   "source": [
    "type(Fruits)"
   ]
  },
  {
   "cell_type": "code",
   "execution_count": 8,
   "id": "6c555048",
   "metadata": {},
   "outputs": [
    {
     "data": {
      "text/plain": [
       "list"
      ]
     },
     "execution_count": 8,
     "metadata": {},
     "output_type": "execute_result"
    }
   ],
   "source": [
    "type(Mobile_companies)"
   ]
  },
  {
   "cell_type": "code",
   "execution_count": null,
   "id": "55159862",
   "metadata": {},
   "outputs": [],
   "source": [
    "#introduction of indexing"
   ]
  },
  {
   "cell_type": "code",
   "execution_count": 10,
   "id": "fecf766d",
   "metadata": {},
   "outputs": [
    {
     "name": "stdout",
     "output_type": "stream",
     "text": [
      "guava\n"
     ]
    }
   ],
   "source": [
    "print(Fruits[3])"
   ]
  },
  {
   "cell_type": "code",
   "execution_count": 13,
   "id": "83eaa36a",
   "metadata": {},
   "outputs": [
    {
     "name": "stdout",
     "output_type": "stream",
     "text": [
      "MI\n"
     ]
    }
   ],
   "source": [
    "print(Mobile_companies[3])"
   ]
  },
  {
   "cell_type": "code",
   "execution_count": 14,
   "id": "caf97b2f",
   "metadata": {},
   "outputs": [
    {
     "name": "stdout",
     "output_type": "stream",
     "text": [
      "ginger\n"
     ]
    }
   ],
   "source": [
    "print(Fruits[2])"
   ]
  },
  {
   "cell_type": "code",
   "execution_count": 16,
   "id": "38567557",
   "metadata": {},
   "outputs": [
    {
     "name": "stdout",
     "output_type": "stream",
     "text": [
      "Ginger\n"
     ]
    }
   ],
   "source": [
    "print((Fruits[2].title()))"
   ]
  },
  {
   "cell_type": "code",
   "execution_count": 17,
   "id": "5f5a30a1",
   "metadata": {},
   "outputs": [
    {
     "name": "stdout",
     "output_type": "stream",
     "text": [
      "GINGER\n"
     ]
    }
   ],
   "source": [
    "print((Fruits[2].upper()))"
   ]
  },
  {
   "cell_type": "code",
   "execution_count": 18,
   "id": "ca6d4456",
   "metadata": {},
   "outputs": [
    {
     "name": "stdout",
     "output_type": "stream",
     "text": [
      "GUAVA\n"
     ]
    }
   ],
   "source": [
    "print(Fruits[3].upper())"
   ]
  },
  {
   "cell_type": "code",
   "execution_count": null,
   "id": "dfc15e34",
   "metadata": {},
   "outputs": [],
   "source": [
    "how to added new element of the list????"
   ]
  },
  {
   "cell_type": "code",
   "execution_count": null,
   "id": "809a5e28",
   "metadata": {},
   "outputs": [],
   "source": [
    "#i want to added a new name the previeous list"
   ]
  },
  {
   "cell_type": "code",
   "execution_count": 19,
   "id": "96fb91db",
   "metadata": {},
   "outputs": [
    {
     "name": "stdout",
     "output_type": "stream",
     "text": [
      "['coconut', 'mango', 'ginger', 'guava', 'lichi', 'orange']\n"
     ]
    }
   ],
   "source": [
    "Fruits.append('orange')\n",
    "print(Fruits)"
   ]
  },
  {
   "cell_type": "code",
   "execution_count": 21,
   "id": "d60ca77f",
   "metadata": {},
   "outputs": [
    {
     "name": "stdout",
     "output_type": "stream",
     "text": [
      "Orange\n"
     ]
    }
   ],
   "source": [
    "print(Fruits[5].title())"
   ]
  },
  {
   "cell_type": "code",
   "execution_count": 22,
   "id": "b00c9efb",
   "metadata": {},
   "outputs": [
    {
     "name": "stdout",
     "output_type": "stream",
     "text": [
      "['samsung', 'oppo', 'vivo', 'MI', 'apple']\n"
     ]
    }
   ],
   "source": [
    "Mobile_companies.append('apple')\n",
    "print(Mobile_companies)"
   ]
  },
  {
   "cell_type": "code",
   "execution_count": 23,
   "id": "97b3e436",
   "metadata": {},
   "outputs": [
    {
     "name": "stdout",
     "output_type": "stream",
     "text": [
      "Apple\n"
     ]
    }
   ],
   "source": [
    "print(Mobile_companies[4].title())"
   ]
  },
  {
   "cell_type": "code",
   "execution_count": null,
   "id": "31d5a42f",
   "metadata": {},
   "outputs": [],
   "source": [
    "# I want to added a new name 3rd index of the previous list "
   ]
  },
  {
   "cell_type": "code",
   "execution_count": 24,
   "id": "8aa0ff78",
   "metadata": {},
   "outputs": [
    {
     "name": "stdout",
     "output_type": "stream",
     "text": [
      "['coconut', 'mango', 'ginger', 'onion', 'guava', 'lichi', 'orange']\n"
     ]
    }
   ],
   "source": [
    "Fruits.insert(3,'onion')\n",
    "print(Fruits)"
   ]
  },
  {
   "cell_type": "code",
   "execution_count": null,
   "id": "03e2618a",
   "metadata": {},
   "outputs": [],
   "source": [
    "# I want to added a new name 4th index of the previous list "
   ]
  },
  {
   "cell_type": "code",
   "execution_count": 25,
   "id": "a16e3f20",
   "metadata": {},
   "outputs": [
    {
     "name": "stdout",
     "output_type": "stream",
     "text": [
      "['samsung', 'oppo', 'vivo', 'MI', 'realme', 'apple']\n"
     ]
    }
   ],
   "source": [
    "Mobile_companies.insert(4,'realme')\n",
    "print(Mobile_companies)"
   ]
  },
  {
   "cell_type": "code",
   "execution_count": 26,
   "id": "c3e48949",
   "metadata": {},
   "outputs": [
    {
     "name": "stdout",
     "output_type": "stream",
     "text": [
      "Onion\n"
     ]
    }
   ],
   "source": [
    "print(Fruits[3].title())"
   ]
  },
  {
   "cell_type": "code",
   "execution_count": 27,
   "id": "5c803b95",
   "metadata": {},
   "outputs": [
    {
     "name": "stdout",
     "output_type": "stream",
     "text": [
      "Realme\n"
     ]
    }
   ],
   "source": [
    "print(Mobile_companies[4].title())"
   ]
  },
  {
   "cell_type": "code",
   "execution_count": null,
   "id": "e87eb374",
   "metadata": {},
   "outputs": [],
   "source": [
    "How to modify elements of the list"
   ]
  },
  {
   "cell_type": "code",
   "execution_count": null,
   "id": "107e69ea",
   "metadata": {},
   "outputs": [],
   "source": [
    "#I want to modify the previous list"
   ]
  },
  {
   "cell_type": "code",
   "execution_count": 28,
   "id": "cac31d38",
   "metadata": {},
   "outputs": [
    {
     "name": "stdout",
     "output_type": "stream",
     "text": [
      "['coconut', 'mango', 'ginger', 'Banana', 'guava', 'lichi', 'orange']\n"
     ]
    }
   ],
   "source": [
    "Fruits[3]='Banana'\n",
    "print(Fruits)"
   ]
  },
  {
   "cell_type": "code",
   "execution_count": 29,
   "id": "62b23518",
   "metadata": {},
   "outputs": [
    {
     "name": "stdout",
     "output_type": "stream",
     "text": [
      "['samsung', 'oppo', 'vivo', 'MI', 'Nokia', 'apple']\n"
     ]
    }
   ],
   "source": [
    "Mobile_companies[4]='Nokia'\n",
    "print(Mobile_companies)"
   ]
  },
  {
   "cell_type": "code",
   "execution_count": 33,
   "id": "75eb5f34",
   "metadata": {},
   "outputs": [
    {
     "name": "stdout",
     "output_type": "stream",
     "text": [
      "list_of_the_fruits:\n",
      "\tcoconut\n",
      "\tmango\n",
      "\tginger\n",
      "\tBanana\n",
      "\tguava\n",
      "\tlichi\n",
      "\torange\n"
     ]
    }
   ],
   "source": [
    "print('list_of_the_fruits:\\n\\tcoconut\\n\\tmango\\n\\tginger\\n\\tBanana\\n\\tguava\\n\\tlichi\\n\\torange')"
   ]
  },
  {
   "cell_type": "code",
   "execution_count": 34,
   "id": "85d507b3",
   "metadata": {},
   "outputs": [
    {
     "name": "stdout",
     "output_type": "stream",
     "text": [
      "list_of_the_Mobile_companies:\n",
      "\toppo\n",
      "\tvivo\n",
      "\trealmi\n",
      "\tmi\n",
      "\tnokia\n"
     ]
    }
   ],
   "source": [
    "print('list_of_the_Mobile_companies:\\n\\toppo\\n\\tvivo\\n\\trealmi\\n\\tmi\\n\\tnokia')"
   ]
  },
  {
   "cell_type": "code",
   "execution_count": 37,
   "id": "6072a824",
   "metadata": {},
   "outputs": [
    {
     "name": "stdout",
     "output_type": "stream",
     "text": [
      "RabaindranathTagore\n"
     ]
    }
   ],
   "source": [
    "First_name='Rabaindranath'\n",
    "Last_name='Tagore'\n",
    "Full_name=f'{First_name}{Last_name}'\n",
    "print(Full_name)"
   ]
  },
  {
   "cell_type": "code",
   "execution_count": 40,
   "id": "3e67680b",
   "metadata": {},
   "outputs": [
    {
     "name": "stdout",
     "output_type": "stream",
     "text": [
      "Gitanjali was wrote by RABAINDRANATHTAGORE\n"
     ]
    }
   ],
   "source": [
    "massage=f'Gitanjali was wrote by {Full_name.upper()}'\n",
    "print(massage)"
   ]
  },
  {
   "cell_type": "code",
   "execution_count": 41,
   "id": "d143b30d",
   "metadata": {},
   "outputs": [
    {
     "data": {
      "text/plain": [
       "str"
      ]
     },
     "execution_count": 41,
     "metadata": {},
     "output_type": "execute_result"
    }
   ],
   "source": [
    "type(massage)"
   ]
  },
  {
   "cell_type": "code",
   "execution_count": null,
   "id": "36891b62",
   "metadata": {},
   "outputs": [],
   "source": []
  },
  {
   "cell_type": "code",
   "execution_count": null,
   "id": "a9912e4c",
   "metadata": {},
   "outputs": [],
   "source": []
  },
  {
   "cell_type": "code",
   "execution_count": null,
   "id": "5e60e0d8",
   "metadata": {},
   "outputs": [],
   "source": []
  },
  {
   "cell_type": "code",
   "execution_count": null,
   "id": "0941332f",
   "metadata": {},
   "outputs": [],
   "source": []
  }
 ],
 "metadata": {
  "kernelspec": {
   "display_name": "Python 3 (ipykernel)",
   "language": "python",
   "name": "python3"
  },
  "language_info": {
   "codemirror_mode": {
    "name": "ipython",
    "version": 3
   },
   "file_extension": ".py",
   "mimetype": "text/x-python",
   "name": "python",
   "nbconvert_exporter": "python",
   "pygments_lexer": "ipython3",
   "version": "3.9.12"
  }
 },
 "nbformat": 4,
 "nbformat_minor": 5
}
