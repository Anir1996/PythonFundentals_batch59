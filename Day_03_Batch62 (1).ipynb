{
 "cells": [
  {
   "cell_type": "code",
   "execution_count": null,
   "id": "d553bd87",
   "metadata": {},
   "outputs": [],
   "source": [
    "Continuation of String Data type"
   ]
  },
  {
   "cell_type": "code",
   "execution_count": null,
   "id": "a4102957",
   "metadata": {},
   "outputs": [],
   "source": [
    "first_name=anirban"
   ]
  },
  {
   "cell_type": "code",
   "execution_count": null,
   "id": "36d2cd95",
   "metadata": {},
   "outputs": [],
   "source": [
    "last_name=mukherjee"
   ]
  },
  {
   "cell_type": "code",
   "execution_count": 1,
   "id": "404ce5b1",
   "metadata": {},
   "outputs": [
    {
     "name": "stdout",
     "output_type": "stream",
     "text": [
      "anirban mukherjeee\n"
     ]
    }
   ],
   "source": [
    "full_name='anirban mukherjeee'\n",
    "print(full_name)"
   ]
  },
  {
   "cell_type": "code",
   "execution_count": null,
   "id": "6ed8ef21",
   "metadata": {},
   "outputs": [],
   "source": [
    "# contribution of string data type are three methods 1 title,2 upper,3 lower"
   ]
  },
  {
   "cell_type": "code",
   "execution_count": 4,
   "id": "ca99516a",
   "metadata": {},
   "outputs": [
    {
     "name": "stdout",
     "output_type": "stream",
     "text": [
      "Anirban Mukherjee\n"
     ]
    }
   ],
   "source": [
    "full_name='anirban mukherjee'\n",
    "print(full_name.title())\n"
   ]
  },
  {
   "cell_type": "code",
   "execution_count": 3,
   "id": "c5e8aed5",
   "metadata": {},
   "outputs": [
    {
     "name": "stdout",
     "output_type": "stream",
     "text": [
      "Provash Mukherjee\n"
     ]
    }
   ],
   "source": [
    "full_name='provash mukherjee'\n",
    "print(full_name.title())\n"
   ]
  },
  {
   "cell_type": "code",
   "execution_count": null,
   "id": "e17a22be",
   "metadata": {},
   "outputs": [],
   "source": [
    "#exe of Title method"
   ]
  },
  {
   "cell_type": "code",
   "execution_count": 5,
   "id": "443e2f36",
   "metadata": {},
   "outputs": [
    {
     "name": "stdout",
     "output_type": "stream",
     "text": [
      "ANIRBAN MUKHERJEE\n"
     ]
    }
   ],
   "source": [
    "full_name='anirban mukherjee'\n",
    "print(full_name.upper())\n"
   ]
  },
  {
   "cell_type": "code",
   "execution_count": 7,
   "id": "baf147b7",
   "metadata": {},
   "outputs": [
    {
     "name": "stdout",
     "output_type": "stream",
     "text": [
      "PROVASH MUKHERJEE\n"
     ]
    }
   ],
   "source": [
    "full_name='provash mukherjee'\n",
    "print(full_name.upper())"
   ]
  },
  {
   "cell_type": "code",
   "execution_count": null,
   "id": "3ede7be1",
   "metadata": {},
   "outputs": [],
   "source": [
    "#exe of upper method"
   ]
  },
  {
   "cell_type": "code",
   "execution_count": 8,
   "id": "b7be2603",
   "metadata": {},
   "outputs": [
    {
     "name": "stdout",
     "output_type": "stream",
     "text": [
      "anirban mukherjee\n"
     ]
    }
   ],
   "source": [
    "full_name='anirban mukherjee'\n",
    "print(full_name.lower())"
   ]
  },
  {
   "cell_type": "code",
   "execution_count": 9,
   "id": "c351fb34",
   "metadata": {},
   "outputs": [
    {
     "name": "stdout",
     "output_type": "stream",
     "text": [
      "provash mukherjee\n"
     ]
    }
   ],
   "source": [
    "full_name='provash mukherjee'\n",
    "print(full_name.lower())"
   ]
  },
  {
   "cell_type": "code",
   "execution_count": null,
   "id": "4c70fca7",
   "metadata": {},
   "outputs": [],
   "source": [
    "#Introduction of 'f' strings"
   ]
  },
  {
   "cell_type": "code",
   "execution_count": null,
   "id": "696a7089",
   "metadata": {},
   "outputs": [],
   "source": [
    "# general syntax of 'f' strings"
   ]
  },
  {
   "cell_type": "code",
   "execution_count": 17,
   "id": "6df2c740",
   "metadata": {},
   "outputs": [
    {
     "name": "stdout",
     "output_type": "stream",
     "text": [
      "rabindranath tagore\n"
     ]
    }
   ],
   "source": [
    "first_name=\"rabindranath\"\n",
    "last_name=\"tagore\"\n",
    "full_name=f\"{first_name} {last_name}\"\n",
    "print(full_name)"
   ]
  },
  {
   "cell_type": "code",
   "execution_count": null,
   "id": "970421dc",
   "metadata": {},
   "outputs": [],
   "source": [
    "#exe of messege"
   ]
  },
  {
   "cell_type": "code",
   "execution_count": 18,
   "id": "70d6ae02",
   "metadata": {},
   "outputs": [
    {
     "name": "stdout",
     "output_type": "stream",
     "text": [
      "Gitanjali wroten by Rabindranath Tagore\n"
     ]
    }
   ],
   "source": [
    "massage=f\"Gitanjali wroten by {full_name.title()}\"\n",
    "print(massage)"
   ]
  },
  {
   "cell_type": "code",
   "execution_count": 19,
   "id": "e671abb9",
   "metadata": {},
   "outputs": [
    {
     "name": "stdout",
     "output_type": "stream",
     "text": [
      "virat koholi\n"
     ]
    }
   ],
   "source": [
    "first_name=\"virat\"\n",
    "last_name=\"koholi\"\n",
    "full_name=f\"{first_name} {last_name}\"\n",
    "print(full_name)"
   ]
  },
  {
   "cell_type": "code",
   "execution_count": 22,
   "id": "a968d11b",
   "metadata": {},
   "outputs": [
    {
     "name": "stdout",
     "output_type": "stream",
     "text": [
      "At present india team capten isVirat Koholi\n"
     ]
    }
   ],
   "source": [
    "massage =f\"At present india team capten is{full_name.title()}\"\n",
    "print(massage)"
   ]
  },
  {
   "cell_type": "code",
   "execution_count": 34,
   "id": "cd10c403",
   "metadata": {},
   "outputs": [
    {
     "name": "stdout",
     "output_type": "stream",
     "text": [
      "favourite_plyer_in_cricket:\n",
      "virat\n",
      "sachin\n",
      "sourav\n",
      "dravid\n"
     ]
    }
   ],
   "source": [
    "print(\"favourite_plyer_in_cricket:\\nvirat\\nsachin\\nsourav\\ndravid\")"
   ]
  },
  {
   "cell_type": "code",
   "execution_count": 35,
   "id": "c1703757",
   "metadata": {},
   "outputs": [
    {
     "name": "stdout",
     "output_type": "stream",
     "text": [
      "favourite_plyer_in_cricket:\n",
      "\tvirat\n",
      "\tsachin\n",
      "\tsourav\n",
      "\tdravid\n"
     ]
    }
   ],
   "source": [
    "print(\"favourite_plyer_in_cricket:\\n\\tvirat\\n\\tsachin\\n\\tsourav\\n\\tdravid\")"
   ]
  },
  {
   "cell_type": "code",
   "execution_count": 36,
   "id": "d53b5ed2",
   "metadata": {},
   "outputs": [
    {
     "name": "stdout",
     "output_type": "stream",
     "text": [
      "list_of_The_festival_of_india:\n",
      "\tdurga puja\n",
      "\trathyatra\n",
      "\trakhi\n"
     ]
    }
   ],
   "source": [
    "print(\"list_of_The_festival_of_india:\\n\\tdurga puja\\n\\trathyatra\\n\\trakhi\")"
   ]
  },
  {
   "cell_type": "code",
   "execution_count": 37,
   "id": "42b25df5",
   "metadata": {},
   "outputs": [
    {
     "name": "stdout",
     "output_type": "stream",
     "text": [
      "list_of_The_festival_of_india:\n",
      "\t{festival1.title()}\n",
      "\t\\{festival2.upper()}\n",
      "\t{festival3.lower()}\n"
     ]
    }
   ],
   "source": [
    "#removing white space"
   ]
  },
  {
   "cell_type": "code",
   "execution_count": 38,
   "id": "12d566d7",
   "metadata": {},
   "outputs": [
    {
     "data": {
      "text/plain": [
       "'naveed'"
      ]
     },
     "execution_count": 38,
     "metadata": {},
     "output_type": "execute_result"
    }
   ],
   "source": [
    "name1='naveed   '\n",
    "name1.rstrip()\n"
   ]
  },
  {
   "cell_type": "code",
   "execution_count": 39,
   "id": "3f6c2c17",
   "metadata": {},
   "outputs": [
    {
     "data": {
      "text/plain": [
       "'joy'"
      ]
     },
     "execution_count": 39,
     "metadata": {},
     "output_type": "execute_result"
    }
   ],
   "source": [
    "name2='    joy'\n",
    "name2.lstrip()"
   ]
  },
  {
   "cell_type": "code",
   "execution_count": null,
   "id": "3b3471e1",
   "metadata": {},
   "outputs": [],
   "source": []
  },
  {
   "cell_type": "code",
   "execution_count": null,
   "id": "33a2bf56",
   "metadata": {},
   "outputs": [],
   "source": []
  },
  {
   "cell_type": "code",
   "execution_count": null,
   "id": "1afc98d2",
   "metadata": {},
   "outputs": [],
   "source": []
  },
  {
   "cell_type": "code",
   "execution_count": null,
   "id": "ee2a41a6",
   "metadata": {},
   "outputs": [],
   "source": []
  },
  {
   "cell_type": "code",
   "execution_count": null,
   "id": "0a2e60d6",
   "metadata": {},
   "outputs": [],
   "source": []
  },
  {
   "cell_type": "code",
   "execution_count": null,
   "id": "8441be12",
   "metadata": {},
   "outputs": [],
   "source": []
  }
 ],
 "metadata": {
  "kernelspec": {
   "display_name": "Python 3 (ipykernel)",
   "language": "python",
   "name": "python3"
  },
  "language_info": {
   "codemirror_mode": {
    "name": "ipython",
    "version": 3
   },
   "file_extension": ".py",
   "mimetype": "text/x-python",
   "name": "python",
   "nbconvert_exporter": "python",
   "pygments_lexer": "ipython3",
   "version": "3.9.12"
  }
 },
 "nbformat": 4,
 "nbformat_minor": 5
}
